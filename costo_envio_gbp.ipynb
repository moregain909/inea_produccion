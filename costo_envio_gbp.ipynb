{
 "cells": [
  {
   "cell_type": "code",
   "execution_count": 1,
   "metadata": {},
   "outputs": [],
   "source": [
    "#from dataclasses import dataclass, field\n",
    "import copy\n",
    "import os\n",
    "from typing import List, Dict, Union\n",
    "#from decouple import AutoConfig, config, UndefinedValueError\n",
    "from dotenv import *\n",
    "import httpx\n",
    "from openpyxl import load_workbook, Workbook\n",
    "\n",
    "#from gbp import proveedor_del_sku, gbp_get_sku_publis\n",
    "from recolectar_tipos_envio_ml import (ml_aut, Tienda, get_items_ids, Costos_Envio, Precios, \\\n",
    "                                       Round_Costos_Envio, Proveedor, Publicacion, SHIPMENT_TYPES_CATALOG, \\\n",
    "                                        Coeficiente_Envio, get_publis_gbp, get_proveedor_sku)\n"
   ]
  },
  {
   "cell_type": "code",
   "execution_count": 2,
   "metadata": {},
   "outputs": [],
   "source": [
    "### ACTUALIZADOR COSTO DE ENVIO PUBLICACIONES EN GBP\n",
    "#   CONFIGURAR QUË PROVEEDORES ACTUALIZAN COSTO DE ENVIO\n",
    "\n",
    "#   DETECTAR CAMBIOS EN LOS COSTOS DE ENVIO PROMEDIO DE ML\n",
    "\n",
    "#   GENERAR EXCEL CON COSTO PROMEDIO DE ENVIO ML PARA ACTUALIZAR EN GBP\n",
    "    #   ESTE EXCEL TIENE QUE TENER DOS CAMPOS: ID_PUBLICACION y COSTO DE ENVIO\n",
    "\n",
    "# Traigo costo de envío promedio con esta función de ml.py: costos_envio_colecta_publi(item_id = None, token = None, item_json = None)"
   ]
  },
  {
   "cell_type": "code",
   "execution_count": 3,
   "metadata": {},
   "outputs": [],
   "source": [
    "#   DETECTAR CAMBIOS EN LOS COSTOS DE ENVIO PROMEDIO DE ML\n",
    "    #   TRAER PUBLIS ML\n",
    "        #   FILTRAR POR PROVEEDORES CON ENVIO GRATIS\n",
    "        #   TRAER COSTO DE ENVIO ML\n",
    "    #   ABRIR EXCEL PUBLIS_GBP\n",
    "        #   CALCULAR COSTO DE ENVIO GBP DE PUBLIS ML (en base al precio GBP y ENVIO ML)\n",
    "        #   COMPARAR COSTOS DE ENVIO EXCEL GBP vs GBP CALCULADO\n",
    "    #   ACTUALIZAR LOS COSTOS DE ENVIO QUE HAGAN FALTA"
   ]
  },
  {
   "cell_type": "code",
   "execution_count": 4,
   "metadata": {},
   "outputs": [],
   "source": [
    "#   CONFIGURA QUÉ PROVEEDORES TIENEN COSTO CON ENVIO EN GBP\n",
    "ALIAS_PROVEEDORES_CON_COSTO_ENVIO = [\"microglobal\", \"bowie\"]\n",
    "\n",
    "#   CONFIGURA QUÉ TIENDAS CONTROLA\n",
    "LISTA_TIENDAS = [\"tecnorium\", \"lenovo\"]\n",
    "\n",
    "#   CONFIGURA ARCHIVO CON PUBLIS_GBP\n",
    "PUBLIS_GBP_SOURCE_FILE = \"Publis_GBP.xlsx\"\n",
    "\n"
   ]
  },
  {
   "cell_type": "code",
   "execution_count": 5,
   "metadata": {},
   "outputs": [],
   "source": [
    "# FUNCIONES TRAIDAS DE GBP.PY\n",
    "\n",
    "def gbp_get_sku_publis_____RENOMBRAR_PARA_USAR():\n",
    "    \"\"\"Trae del excel de publis de GBP, un listado con dicts con ID_ML y SKU principal de las publicaciones de ML en GBP\n",
    "\n",
    "    Returns:\n",
    "        _list_: Lista con diccionarios formato {'ml_id': 'MLA636710307', 'sku': '71252'}\n",
    "    \"\"\"\n",
    "\n",
    "    # trae publis de GBP (publis_gbp)\n",
    "    # os.chdir(\"C:\\!PYTHON\\ML\")\n",
    "    os.chdir(os.path.dirname(os.path.abspath(__file__)))\n",
    "    workbook = load_workbook(filename=\"Publis_GBP.xlsx\")\n",
    "    sheet = workbook.active\n",
    "    rows = int(sheet.dimensions[5:])\n",
    "\n",
    "    publis_gbp = []\n",
    "\n",
    "    for x in range(2,rows + 1):\n",
    "        publi_gbp = {\"ml_id\": sheet[\"D\"+str(x)].value, \"sku\": sheet[\"F\"+str(x)].value}\n",
    "        publis_gbp.append(copy.deepcopy(publi_gbp))\n",
    "\n",
    "    return publis_gbp\n",
    "\n",
    "def proveedor_del_sku_____RENOMBRAR_PARA_USAR():\n",
    "    \"\"\" trae proveedor id de cada sku del excel \"Articulos_GBP_extendida.xlsx\" exportado de GBP\n",
    "\n",
    "    Returns:\n",
    "        _list_: Lista con diccionarios conteniendo sku, nombre proveedor y id proveedor\n",
    "                Ej: {'sku': 'kit-21048-93514', 'proveedor_nombre': 'Goris Group', 'proveedor_id': '14'}\n",
    "    \"\"\"\n",
    "\n",
    "    proveedores_x_skus = [] \n",
    "    os.chdir(os.path.dirname(os.path.abspath(__file__)))\n",
    "    # os.chdir(\"C:/!PYTHON/ML\")\n",
    "    workbook = load_workbook(filename=\"Articulos_GBP_extendida.xlsx\")\n",
    "    sheet = workbook.active\n",
    "    rows = sheet.max_row\n",
    "\n",
    "    \n",
    "    for x in range(2,rows + 1):\n",
    "        proveedor_x_sku = {}\n",
    "        sku = sheet[\"F\"+str(x)].value\n",
    "        proveedor_nombre = sheet[\"T\"+str(x)].value.split(\" | \", 3)[0]\n",
    "        proveedor_id = sheet[\"T\"+str(x)].value.split(\" | \", 3)[1]\n",
    "        proveedor_x_sku.update({\"sku\": sku, \"proveedor_nombre\": proveedor_nombre, \"proveedor_id\": proveedor_id})\n",
    "        proveedores_x_skus.append(proveedor_x_sku)\n",
    "        # print(proveedor_id, proveedor_nombre)\n",
    "    \n",
    "    return proveedores_x_skus\n",
    "\n"
   ]
  },
  {
   "cell_type": "code",
   "execution_count": 6,
   "metadata": {},
   "outputs": [
    {
     "name": "stdout",
     "output_type": "stream",
     "text": [
      "{'access_token': 'APP_USR-3820890999415663-110916-c3c898cb340e1037b3257d191ccac6bf-77581040', 'token_type': 'Bearer', 'expires_in': 21600, 'scope': 'offline_access read write', 'user_id': 77581040, 'refresh_token': 'TG-654d3a8c00ee6e000157dc3c-77581040'}\n",
      "{'access_token': 'APP_USR-7170521001674920-110916-d10fd37a8ec11f35390dc2e97b22d95c-301181249', 'token_type': 'Bearer', 'expires_in': 21600, 'scope': 'offline_access read write', 'user_id': 301181249, 'refresh_token': 'TG-654d3a8d37f2160001cfe54b-301181249'}\n"
     ]
    }
   ],
   "source": [
    "#   CREA LISTA CON PROVEEDORES CON COSTO DE ENVIO EN GBP\n",
    "proveedores = [Proveedor(alias=a) for a in ALIAS_PROVEEDORES_CON_COSTO_ENVIO]\n",
    "\n",
    "#def lista_coeficientes(umbrales: Dict) -> List[Coeficiente_Envio]:\n",
    "#    return [Coeficiente_Envio(umbral=k, coeficiente=v) for k, v in umbrales.items()]\n",
    "\n",
    "#   AGREGA COEFICIENTES PARA ENVIO GBP A CADA PROVEEDOR\n",
    "for p in proveedores:\n",
    "    p.get_coeficientes_envio()    \n",
    "\n",
    "#ids_proveedores_con_costo_envio = [proveedor.pid for proveedor in proveedores]\n",
    "\n",
    "#   GENERA TOKENS Y CLIENTS PARA CADA TIENDA\n",
    "#   convierte lista de tiendas en diccionario con credenciales con formato {tienda: Tienda()}\n",
    "tiendas_dict = {t: Tienda(name=t) for t in LISTA_TIENDAS}\n",
    "tiendas = tiendas_dict\n",
    "\n"
   ]
  },
  {
   "cell_type": "code",
   "execution_count": 7,
   "metadata": {},
   "outputs": [],
   "source": [
    "#   TRAER SKU DE CADA PUBLICACION DE ML\n",
    "\n",
    "# Trae JSON de PUBLICACION ML\n",
    "#def item_details_json(item_id, store=None, token=None, client=None):\n",
    "#    \"\"\"Trae json con todos los atributos de una publicación\"\"\"\n",
    "#\n",
    "#    if not client:\n",
    "#        client = httpx.Client()\n",
    "#    if not token:\n",
    "#        if not store:\n",
    "#            print(f\"Se necesita tienda o token de la publicación {item_id} para poder traer detalles.\")\n",
    "#            return None\n",
    "#        else:\n",
    "#            token = ml_aut(store, client=client)\n",
    "#\n",
    "#    url = f\"https://api.mercadolibre.com/items/{item_id}?include_attributes=all\"\n",
    "#\n",
    "#    headers = {\n",
    "#        'Authorization': token\n",
    "#        }\n",
    "#\n",
    "#    response = client.get(url, headers=headers)\n",
    "#    j = response.json()\n",
    "#    \n",
    "#    if response.status_code != 200:\n",
    "#            print(f\"No se pudo traer listado de publicaciones de {item_id}\")\n",
    "#            print(response.status_code, response.text)\n",
    "#            return None    \n",
    "#    else:\n",
    "#         return j\n"
   ]
  },
  {
   "cell_type": "code",
   "execution_count": 8,
   "metadata": {},
   "outputs": [],
   "source": [
    "\n",
    "\n",
    "#class Item_Details:\n",
    "#    \n",
    "#    @staticmethod\n",
    "#    def get_json(item_id, store=None, token=None, client=None):\n",
    "#        \"\"\"\n",
    "#        Obtiene JSON con detalles de un item de MercadoLibre\n",
    "#        \"\"\"\n",
    "#        if not item_id:\n",
    "#            raise Exception(\"Se requiere item_id para item_details_json\")\n",
    "#        if not client:\n",
    "#            client = httpx.Client()\n",
    "#        if not token:\n",
    "#            if not store:\n",
    "#                raise Exception(\"Se requiere store o token para item_details_json\")\n",
    "#            else:\n",
    "#                token = ml_aut(store)\n",
    "#\n",
    "#        url = f\"https://api.mercadolibre.com/items/{item_id}?include_attributes=all\"\n",
    "#\n",
    "#        response = client.get(url, headers={\"Authorization\": token})\n",
    "#        return response.json()"
   ]
  },
  {
   "cell_type": "code",
   "execution_count": 9,
   "metadata": {},
   "outputs": [
    {
     "data": {
      "text/plain": [
       "816"
      ]
     },
     "execution_count": 9,
     "metadata": {},
     "output_type": "execute_result"
    }
   ],
   "source": [
    "#   GENERA LISTA PUBLIS_ML CON IDS\n",
    "\n",
    "publis_ml = []\n",
    "for t in tiendas.keys():\n",
    "    publis_tienda = get_items_ids(store=t, token=tiendas[t].token, client=tiendas[t].client, status=\"active\", offset=0, limit=50)\n",
    "    publis_ml.extend([Publicacion(tienda=t, item_id=pt) for pt in publis_tienda])\n",
    "        \n",
    "len(publis_ml)"
   ]
  },
  {
   "cell_type": "code",
   "execution_count": 10,
   "metadata": {},
   "outputs": [
    {
     "data": {
      "text/plain": [
       "2668"
      ]
     },
     "execution_count": 10,
     "metadata": {},
     "output_type": "execute_result"
    }
   ],
   "source": [
    "#   GENERA LISTA PUBLIS_GBP (SIN PROVEEDOR)\n",
    "\n",
    "publis_gbp = get_publis_gbp(sku=True, proveedor=False, tienda=True, costo_envio=True, precio=True)\n",
    "\n",
    "len(publis_gbp)"
   ]
  },
  {
   "cell_type": "code",
   "execution_count": 11,
   "metadata": {},
   "outputs": [],
   "source": [
    "#   formatea el string tienda de PUBLIS GBP\n",
    "\n",
    "def format_tienda(tienda):\n",
    "    split_tienda = tienda.split(\" \", 1)\n",
    "    return split_tienda[0].lower()\n"
   ]
  },
  {
   "cell_type": "code",
   "execution_count": 12,
   "metadata": {},
   "outputs": [
    {
     "data": {
      "text/plain": [
       "807"
      ]
     },
     "execution_count": 12,
     "metadata": {},
     "output_type": "execute_result"
    }
   ],
   "source": [
    "#   FILTRA PUBLIS GBP ACTIVAS (QUITA LAS QUE NO ESTAN EN PUBLIS_ML)\n",
    "#   AGREGA SKU a PUBLIS ML\n",
    "\n",
    "for pgbp in publis_gbp[:]:\n",
    "    found = False\n",
    "    pgbp.tienda = format_tienda(pgbp.tienda)\n",
    "    for pml in publis_ml:\n",
    "        if pgbp.item_id == pml.item_id:\n",
    "            found = True\n",
    "            pml.sku = pgbp.sku\n",
    "            break\n",
    "    if not found:\n",
    "        publis_gbp.remove(pgbp)\n",
    "        \n",
    "len(publis_gbp)\n"
   ]
  },
  {
   "cell_type": "code",
   "execution_count": 14,
   "metadata": {},
   "outputs": [
    {
     "data": {
      "text/plain": [
       "Publicacion(item_id='MLA1395052477', sku='CBS220-48P-4G-AR', proveedor=Proveedor(alias='microglobal', pid='16', name='MICROGLOBAL ARGENTINA SOCIEDAD', coeficientes_envio=[Coeficiente_Envio(umbral=90000, coeficiente=1), Coeficiente_Envio(umbral=120000, coeficiente=0.5)]), tienda='tecnorium', costos_envio=Costos_Envio(ml=None, ms=None, gbp=0), precios=Precios(venta_gbp=1712452), coeficiente_envio_gbp=None)"
      ]
     },
     "execution_count": 14,
     "metadata": {},
     "output_type": "execute_result"
    }
   ],
   "source": [
    "#   AGREGA PROVEEDOR A LAS PUBLIS GBP\n",
    "\n",
    "#os.chdir(os.path.dirname(os.path.abspath(__file__)))\n",
    "# os.chdir(\"C:/!PYTHON/ML\")\n",
    "articulos_workbook = load_workbook(filename=\"data/Articulos_GBP_extendida.xlsx\")\n",
    "articulos_sheet = articulos_workbook.active\n",
    "\n",
    "for pgbp in publis_gbp:\n",
    "    pgbp.proveedor = get_proveedor_sku(pgbp.sku, Articulos_GBP_extendida_sheet=articulos_sheet)\n",
    "\n",
    "\n",
    "publis_gbp[2]\n"
   ]
  },
  {
   "cell_type": "code",
   "execution_count": 15,
   "metadata": {},
   "outputs": [
    {
     "data": {
      "text/plain": [
       "622"
      ]
     },
     "execution_count": 15,
     "metadata": {},
     "output_type": "execute_result"
    }
   ],
   "source": [
    "#   COMPLETA DATOS DE PUBLIS ML\n",
    "#   FILTRA POR PROVEEDORES CON ENVIO \n",
    "#   DESCARTA LOS LINKS DE COBRO DE MP QUE ML LISTA COMO PUBLICACIONES\n",
    "\n",
    "not_found = []\n",
    "nueva_publis_ml = []\n",
    "for pml in publis_ml:\n",
    "    found = False\n",
    "    \n",
    "    for pgbp in publis_gbp:\n",
    "        if pml.item_id == pgbp.item_id:\n",
    "            #print(f'pml previo a tomar datos de pgbp:\\n{pml}')\n",
    "            if pgbp.proveedor.alias in ALIAS_PROVEEDORES_CON_COSTO_ENVIO:\n",
    "                nueva_publi = pml\n",
    "                nueva_publi.sku = pgbp.sku\n",
    "                nueva_publi.proveedor = pgbp.proveedor\n",
    "                nueva_publi.precios = pgbp.precios\n",
    "                nueva_publi.costos_envio = Costos_Envio()\n",
    "                nueva_publis_ml.append(copy.deepcopy(nueva_publi))\n",
    "\n",
    "            found= True\n",
    "            break\n",
    "    if not found:\n",
    "        not_found.append(pml)\n",
    "\n",
    "publis_ml = nueva_publis_ml\n",
    "        \n",
    "len(publis_ml)\n",
    "#   PENDIENTE: ACÁ DEBERÍA CHEKEAR SI LAS NOT_FOUND (  \"channels\": [\"mp-merchants\", \"mp-link\"] OR \"domain_id\": \"MLA-MERCADO_POINT_SUPPLIES\")\n",
    "#   PARA CONFIRMAR QUE NO DESCARTE PUBLICACIONES EN VEZ DE LINKS DE PAGO"
   ]
  },
  {
   "cell_type": "code",
   "execution_count": null,
   "metadata": {},
   "outputs": [],
   "source": [
    "#   FILTRA POR SKU DE PROVEEDORES CON ENVIO\n",
    "#\n",
    "#for sku in proveedores_gbp[:]:\n",
    "#    if sku[\"proveedor_id\"] not in ids_proveedores_con_costo_envio:\n",
    "#        proveedores_gbp.remove(sku)\n",
    "#\n",
    "#len(proveedores_gbp)\n",
    "##ids_proveedores_con_costo_envio"
   ]
  },
  {
   "cell_type": "code",
   "execution_count": null,
   "metadata": {},
   "outputs": [],
   "source": [
    "#   DESCARTA PUBLIS DE OTROS PROVEEDORES\n",
    "\n",
    "#print(len(publis_ml))\n",
    "#a_borrar = []\n",
    "#for p in publis_ml[:]:\n",
    "#    found = False\n",
    "#    for s in proveedores_gbp:\n",
    "#        if p.sku == s[\"sku\"]:\n",
    "#            found = True\n",
    "#            p.proveedor = s[\"proveedor_nombre\"]\n",
    "#\n",
    "#    if not found:\n",
    "#        publis_ml.remove(p)\n",
    "#\n",
    "#print(len(publis_ml))\n",
    "##publis_ml[1]"
   ]
  },
  {
   "cell_type": "code",
   "execution_count": null,
   "metadata": {},
   "outputs": [],
   "source": [
    "def costos_envio_colecta_publi_json(item_id = None, token = None, client=None, item_json = None) -> Union[Dict, None]:\n",
    "    \"\"\"Trae json de costos promedio aproximados (el que informa ML en la interface) de envío por correo de una publicación para ML y MS.\n",
    "\n",
    "    Args:\n",
    "        item_id (_str_, optional): ID publicación. Defaults to None.\n",
    "        token (_str_, optional): Defaults to None.\n",
    "        item_json (_json_, optional): JSON del recurso /item de la publicación. Defaults to None.\n",
    "\n",
    "        Si se usa item_json como argumento, no se necesitan item_id y token, y viceversa.\n",
    "\n",
    "    Returns:\n",
    "        Dict (json)\n",
    "    \"\"\"\n",
    "\n",
    "    if item_json:\n",
    "        j = item_json\n",
    "    elif not item_id:\n",
    "        print(\"Se requiere item_id o item_json para calcular el costo de envío\")\n",
    "        return None\n",
    "    else:\n",
    "        if not token:\n",
    "            token = ml_aut(tienda_publi(item_id))\n",
    "\n",
    "        if not client:\n",
    "            client= httpx.Client()\n",
    "\n",
    "        ZIP_CODE = \"1602\"\n",
    "         \n",
    "        url = f'https://api.mercadolibre.com/items/{item_id}/shipping_options?zip_code={ZIP_CODE}'\n",
    "\n",
    "        headers = {\n",
    "          'Authorization': token\n",
    "        }\n",
    "\n",
    "        count = 0\n",
    "        while count < 6:\n",
    "            response = client.get(url, headers=headers)\n",
    "            j = response.json()\n",
    "            if response.status_code == 404:\n",
    "                #print(f'La publicación {item_id} no tiene Mercado Envíos')\n",
    "                return None\n",
    "            elif response.status_code != 200:\n",
    "                print(f'No se pudo traer json con costo de envío de la publicación {item_id}')\n",
    "                print(response.status_code, response.text)\n",
    "                count += 1\n",
    "                print(f'Intento {count} para la publicación {item_id}')\n",
    "                if count < 6:\n",
    "                    print('Reintentando...')\n",
    "                else:\n",
    "                    print(f'Se cancela la búsqueda de costo de envío de {item_id}')\n",
    "                    return None\n",
    "            else:\n",
    "                if count > 0:\n",
    "                    print(f'Se obtuvo json con costo de envío de la publicación {item_id} con exito al intento {count + 1}')\n",
    "                return j\n",
    "\n",
    "def costos_envio_colecta_publi(costos_envio_colecta_publi_json) -> Union[Costos_Envio, None]:\n",
    "\n",
    "    if costos_envio_colecta_publi_json == None:\n",
    "        return None\n",
    "    j = costos_envio_colecta_publi_json\n",
    "    costo_ml = None\n",
    "    for x in j[\"options\"]:\n",
    "        if x[\"name\"] ==  \"Estándar a domicilio\":   # Envío por Correo Estandar a domicilio\n",
    "            costo_ml = x[\"list_cost\"]\n",
    "            break\n",
    "        elif x[\"name\"] == \"Express a domicilio\":\n",
    "            costo_ml = x[\"list_cost\"]\n",
    "        elif x[\"name\"] == \"Prioritario a domicilio\" and x[\"shipping_method_type\"] == \"next_day\":\n",
    "            costo_ml = x[\"list_cost\"]\n",
    "    if not costo_ml:\n",
    "        print(f'La publicación {item_id} no tiene opciones de Envío por Correo Estandar, Express a Domicilio o Prioritario a Domicilio')\n",
    "        return None\n",
    "    else:\n",
    "        costo_ms = costo_ml * 2\n",
    "        costo_envio = Costos_Envio(ml=costo_ml, ms=costo_ms)\n",
    "        #costos_envio = {\"ml\": costo_ml, \"ms\": costo_ms}    \n",
    "        return costo_envio\n",
    "\n",
    "def tiene_mercado_envio(item_json) -> bool:\n",
    "    if item_json[\"shipping\"][\"mode\"] == \"not_specified\" or item_json[\"shipping\"][\"mode\"] == None:\n",
    "        return False\n",
    "    else:\n",
    "        return True"
   ]
  },
  {
   "cell_type": "code",
   "execution_count": null,
   "metadata": {},
   "outputs": [],
   "source": [
    "#   TRAE COSTOS DE ENVIO ML \n",
    "#   esto podría hacerse asincrónico para bajar el tiempo de ejecución (>3 min)\n",
    "\n",
    "#   CONFIG COEFICIENTE CALCULO ENVIO MS RESPECTO ENVIO ML\n",
    "MS_SHIPMENT_MULTIPLIER  = 2\n",
    "\n",
    "for i, p in enumerate(publis_ml[:]):\n",
    "    #   SHIPMENT_TYPES_CATALOG\n",
    "    item_json = p.get_item_shipment_options_json(token=tiendas[p.tienda.lower()].token, client=tiendas[p.tienda.lower()].client)\n",
    "    #print(p.tienda)\n",
    "    if item_json:\n",
    "        print(i, p.item_id)\n",
    "        p.shipment_options = p.get_item_free_shipment_options(item_json, include_prices=True, shipment_types_catalog=SHIPMENT_TYPES_CATALOG)\n",
    "        print(f'shipment options: {p.shipment_options}')\n",
    "        p.get_reference_shipment_costs(ms_shipment_multiplier=MS_SHIPMENT_MULTIPLIER)\n",
    "        #print(i, p.item_id, p.costos_envio)\n"
   ]
  },
  {
   "cell_type": "code",
   "execution_count": null,
   "metadata": {},
   "outputs": [],
   "source": [
    "#   CALCULA COSTOS ENVIO GBP EN PUBLIS ML\n",
    "\n",
    "for i, p in enumerate(publis_ml):\n",
    "    p.set_coeficiente_envio_gbp()\n",
    "    p.set_costo_envio_gbp()\n",
    "    print(f'Envío GBP POST: {i} {p.item_id} {p.precios.venta_gbp} {p.coeficiente_envio_gbp} {p.costos_envio.gbp}')\n"
   ]
  },
  {
   "cell_type": "code",
   "execution_count": null,
   "metadata": {},
   "outputs": [],
   "source": [
    "###   COMPARA COSTO DE ENVIO GBP ENTRE PUBLIS ML Y PUBLIS GBP\n",
    "###   CREA LISTA CON PUBLIS A ACTUALIZAR\n",
    "\n",
    "actualizacion_publis = []\n",
    "for publiml in publis_ml:\n",
    "    for publigbp in publis_gbp:\n",
    "        if publiml.item_id == publigbp.item_id:\n",
    "            if publiml.costos_envio.gbp != publigbp.costos_envio.gbp and publiml.costos_envio.gbp != None:\n",
    "                actualizacion_publis.append(publiml)\n",
    "                print(f'{publiml.item_id} venta {publiml.precios.venta_gbp} - envio gbp orig {publigbp.costos_envio.gbp} - envío gbp nuevo {publiml.costos_envio.gbp}')\n",
    "        "
   ]
  },
  {
   "cell_type": "code",
   "execution_count": null,
   "metadata": {},
   "outputs": [],
   "source": [
    "# CONFIG GBP_UPDATER_FILE\n",
    "\n",
    "GBP_UPDATER_FILE = \"actualizador_publis_gbp.xlsx\"\n",
    "GBP_UPDATER_FILE_TITLE_CELLS = {\"A1\": \"ID de Publicación\", \"B1\": \"Costo de Envío\"}\n",
    "GBP_UPDATER_FILE_SHEET_TITLE = \"Publicaciones\"\n",
    "GBP_UPDATER_FILE_COLUMNS_WIDTH = 18"
   ]
  },
  {
   "cell_type": "code",
   "execution_count": null,
   "metadata": {},
   "outputs": [],
   "source": [
    "### ESCRIBE EXCEL PARA IMPORTAR EN GBP CON PUBLICACIONES A ACTUALIZAR\n",
    "\n",
    "# WORKBOOK REQUERIMENTS\n",
    "# Ingresar importe como TEXTO, con el separador decimal como COMA (ej: \"1599,00\")\n",
    "\n",
    "def save_to_excel(publis_para_actualizar: List[Publicacion], excel_pathname: str, gbp_updater_file_title_cells: Dict[str, str], \\\n",
    "                  gbp_updater_file_sheet_title: str = \"Publicaciones\", gbp_updater_file_columns_width: int = 18) -> bool:\n",
    "    \"\"\"Genera archivo excel con publicaciones con costo de envío a actualizar en GBP para importar en el sistema. \n",
    "    Cumple con la versión 17 del template que entrega GBP. Siempre confirmar que el formato actual siga siendo compatible.\n",
    "    Se puede acceder a la versión actual desde acá:\n",
    "    http://gbp47.globalbluepoint.com/tecnorium/App_HelpFiles/Cambio%20masivo%20de%20Estados%20de%20Publicaciones.xlsx\n",
    "     \n",
    "    Args:\n",
    "        publis_para_actualizar (List[Publi_gbp]): Listado de publicaciones (con objeto Publi_gbp) a actualizar.\n",
    "        excel_path (str): Path y nombre del archivo a generar.\n",
    "        gbp_updater_file_title_cells (Dict[str, str]): Columnas del excel a generar. Chekear en GBP que no hayan cambiado.\n",
    "        gbp_updater_file_sheet_title (str): Nombre de la hoja del excel. Defaults to \"Publicaciones\". Chekear en GBP que no haya cambiado el nombre requerido.\n",
    "        gbp_updater_file_columns_width (int): Ancoh de las columnas. No afecta el funcionamiento pero facilita el control del excel si necesitamos abrirlo. Defaults to 15.\n",
    "\n",
    "    Returns:\n",
    "        bool: Si está todo bien, devuelve True. Si falta algún argumento o alguno tiene el tipado incorrecto, devuelve False.\n",
    "    \"\"\"\n",
    "\n",
    "    # Checks if all the arguments are present and correct \n",
    "    if not publis_para_actualizar or not excel_pathname or not gbp_updater_file_title_cells or not gbp_updater_file_sheet_title or not gbp_updater_file_columns_width:\n",
    "         print('Falta un argumento.\\nUso: save_to_excel(publis_para_actualizar: List[Publi_gbp], excel_pathname: str, gbp_updater_file_title_cells: Dict[str, str], \\\n",
    "                  gbp_updater_file_sheet_title: str = \"Publicaciones\", gbp_updater_file_columns_width: int = 15)')\n",
    "         return False\n",
    "    elif type(publis_para_actualizar ) != list:\n",
    "         return False\n",
    "    elif type(excel_pathname) != str:\n",
    "         return False\n",
    "    elif type(gbp_updater_file_title_cells) != dict:\n",
    "         return False\n",
    "    elif type(gbp_updater_file_sheet_title) != str:\n",
    "         return False\n",
    "    elif type(gbp_updater_file_columns_width) != int:\n",
    "         return False\n",
    "    else:\n",
    "        # Create a new workbook\n",
    "        gbp_updater_wb = Workbook()\n",
    "        gbp_updater_sheet = gbp_updater_wb.active\n",
    "        gbp_updater_sheet.title = gbp_updater_file_sheet_title\n",
    "        col_letters = [col.strip(\"1\") for col in gbp_updater_file_title_cells.keys()]\n",
    "\n",
    "        # Set columns width (just for OCT)\n",
    "        for col in col_letters:\n",
    "            gbp_updater_sheet.column_dimensions[col].width = gbp_updater_file_columns_width\n",
    "\n",
    "        # Set workbook column names\n",
    "        for column_cell in gbp_updater_file_title_cells.keys():\n",
    "            gbp_updater_sheet[column_cell].value = gbp_updater_file_title_cells[column_cell]\n",
    "\n",
    "        # Write the new content\n",
    "        for row in range(2, len(publis_para_actualizar) + 2):\n",
    "            gbp_updater_sheet[f'A{row}'] = publis_para_actualizar[row - 2].item_id\n",
    "            gbp_updater_sheet[f'B{row}'] = f'{str(publis_para_actualizar[row - 2].costos_envio.gbp)},00'\n",
    "\n",
    "\n",
    "        # Saves the excel file over existing one\n",
    "        gbp_updater_wb.save(filename=excel_pathname)\n",
    "        gbp_updater_wb.close()\n",
    "        return True\n",
    "\n",
    "\n",
    "save_to_excel(publis_para_actualizar = actualizacion_publis, excel_pathname = GBP_UPDATER_FILE, \\\n",
    "              gbp_updater_file_title_cells = GBP_UPDATER_FILE_TITLE_CELLS, gbp_updater_file_sheet_title = GBP_UPDATER_FILE_SHEET_TITLE, \\\n",
    "                gbp_updater_file_columns_width = GBP_UPDATER_FILE_COLUMNS_WIDTH)"
   ]
  }
 ],
 "metadata": {
  "kernelspec": {
   "display_name": "inea_env",
   "language": "python",
   "name": "python3"
  },
  "language_info": {
   "codemirror_mode": {
    "name": "ipython",
    "version": 3
   },
   "file_extension": ".py",
   "mimetype": "text/x-python",
   "name": "python",
   "nbconvert_exporter": "python",
   "pygments_lexer": "ipython3",
   "version": "3.11.3"
  },
  "orig_nbformat": 4
 },
 "nbformat": 4,
 "nbformat_minor": 2
}
